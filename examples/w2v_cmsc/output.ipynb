{
 "cells": [
  {
   "cell_type": "markdown",
   "metadata": {},
   "source": [
    "Here I save the path of each of my experiments, so I can quickly recover them"
   ]
  },
  {
   "cell_type": "code",
   "execution_count": null,
   "metadata": {
    "vscode": {
     "languageId": "plaintext"
    }
   },
   "outputs": [],
   "source": []
  },
  {
   "cell_type": "markdown",
   "metadata": {},
   "source": [
    "#### Pretrain models:\n",
    "\n",
    "- [wcr-all-120] /volume/deepecg/fairseq-signals/outputs/2024-09-05/13-40-53/checkpoints-all/\n",
    "- [wcr-50k-200] /volume/deepecg/fairseq-signals/outputs/2024-08-22/14-31-06/checkpoints-50k/"
   ]
  },
  {
   "cell_type": "markdown",
   "metadata": {},
   "source": [
    "#### Finetune models\n",
    "\n",
    "- [wcr-all-120 + acs ft] /volume/deepecg/fairseq-signals/outputs/2024-09-09/02-41-20/checkpoints-acs/\n",
    "- [wcr-all-120 + fevg ft] /volume/deepecg/fairseq-signals/outputs/2024-09-08/18-37-44/checkpoints/\n",
    "- [wcr-all-120 + bp ft] /volume/deepecg/fairseq-signals/outputs/2024-09-09/03-52-10/checkpoints-bp/\n",
    "- [wcr-all-120 + afib ft] /volume/deepecg/fairseq-signals/outputs/2024-09-09/02-29-11/checkpoints-afib\n",
    "- [wcr-50k-200 + fevg ft] /volume/deepecg/fairseq-signals/outputs/2024-09-06/04-22-33/checkpoints/\n",
    "- [wcr-50k-200 + acs ft] /volume/deepecg/fairseq-signals/outputs/2024-09-05/17-43-03/checkpoints/\n",
    "\n",
    "### Asymmetric loss\n",
    "- [wrc-all-120 + acs ft] /volume/deepecg/fairseq-signals/outputs/2024-09-11/17-18-19/checkpoints-acs-as/\n",
    "- [wcr-all-120 + afib ft] /volume/deepecg/fairseq-signals/outputs/2024-09-11/17-18-24/checkpoints-afib-as/\n",
    "- [wcr-all-120 + fevg ft] /volume/deepecg/fairseq-signals/outputs/2024-09-12/00-50-42/checkpoints-fevg-as/"
   ]
  },
  {
   "cell_type": "markdown",
   "metadata": {
    "vscode": {
     "languageId": "plaintext"
    }
   },
   "source": [
    "#### Linear evaluation models\n",
    "\n",
    "- [wcr-all-120 + acs le] /volume/deepecg/fairseq-signals/outputs/2024-09-10/12-52-38/checkpoints-acs/\n",
    "- [wcr-all-120 + afib le] /volume/deepecg/fairseq-signals/outputs/2024-09-10/12-53-39/checkpoints-afib/\n",
    "- [wcr-all-120 + fevg le] /volume/deepecg/fairseq-signals/outputs/2024-09-11/18-32-18/checkpoints-fevg/\n",
    "- [wcr-all-120 + lqts le] /volume/deepecg/fairseq-signals/outputs/2024-09-16/04-15-17/checkpoints-le-lqts\n",
    "- [wcr-all-120 + lqts le, bs=32] /volume/deepecg/fairseq-signals/outputs/2024-09-16/04-46-42/checkpoints-le-lqts\n",
    "- [wcr-all-120 + lqts ft] /volume/deepecg/fairseq-signals/outputs/2024-09-16/04-20-06/checkpoints-lqts/\n",
    "- [wcr-all-120 + lqts type le] /volume/deepecg/fairseq-signals/outputs/2024-09-16/04-18-12/checkpoints-le-lqts-type\n",
    "- [wcr-all-120 + lqts type ft] /volume/deepecg/fairseq-signals/outputs/2024-09-16/04-22-04/checkpoints-lqts-type \n",
    "\n"
   ]
  },
  {
   "cell_type": "code",
   "execution_count": null,
   "metadata": {
    "vscode": {
     "languageId": "plaintext"
    }
   },
   "outputs": [],
   "source": []
  }
 ],
 "metadata": {
  "language_info": {
   "name": "python"
  }
 },
 "nbformat": 4,
 "nbformat_minor": 2
}
